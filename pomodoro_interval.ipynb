{
 "cells": [
  {
   "attachments": {},
   "cell_type": "markdown",
   "metadata": {},
   "source": [
    "Goal: Find the optimum duration of a work session M-F. \n",
    "\n",
    "Sub-goal: FInd the optimum duration of break"
   ]
  },
  {
   "attachments": {},
   "cell_type": "markdown",
   "metadata": {},
   "source": [
    "## Calculations"
   ]
  },
  {
   "cell_type": "code",
   "execution_count": 1,
   "metadata": {},
   "outputs": [],
   "source": [
    "# imports\n",
    "from datetime import timedelta"
   ]
  },
  {
   "cell_type": "code",
   "execution_count": 21,
   "metadata": {},
   "outputs": [],
   "source": [
    "# work session durations\n",
    "traditional_delta = timedelta(minutes=50)\n",
    "hypothesis_delta = timedelta(minutes=90)\n",
    "# number of work sessions\n",
    "traditional_sessions = 8\n",
    "# hypothesis sessions == unknown. Find it. "
   ]
  },
  {
   "cell_type": "code",
   "execution_count": 22,
   "metadata": {},
   "outputs": [],
   "source": [
    "traditional_total_hours = traditional_delta * traditional_sessions\n",
    "hypothesis_sessions = round(traditional_total_hours / hypothesis_delta,1)"
   ]
  },
  {
   "cell_type": "code",
   "execution_count": 23,
   "metadata": {},
   "outputs": [
    {
     "data": {
      "text/plain": [
       "4.4"
      ]
     },
     "execution_count": 23,
     "metadata": {},
     "output_type": "execute_result"
    }
   ],
   "source": [
    "hypothesis_sessions"
   ]
  },
  {
   "attachments": {},
   "cell_type": "markdown",
   "metadata": {},
   "source": [
    "# Conclusion"
   ]
  },
  {
   "attachments": {},
   "cell_type": "markdown",
   "metadata": {},
   "source": [
    "Your new session target is halved nearly. \n",
    "\n",
    "8->4 sessions\n",
    "\n",
    "- each session is 90 minutes now + 40min"
   ]
  }
 ],
 "metadata": {
  "kernelspec": {
   "display_name": "Env-1-General",
   "language": "python",
   "name": "python3"
  },
  "language_info": {
   "codemirror_mode": {
    "name": "ipython",
    "version": 3
   },
   "file_extension": ".py",
   "mimetype": "text/x-python",
   "name": "python",
   "nbconvert_exporter": "python",
   "pygments_lexer": "ipython3",
   "version": "3.9.15"
  },
  "orig_nbformat": 4,
  "vscode": {
   "interpreter": {
    "hash": "426a0e71540ffc0c2653557d8d08eb6d382e945066931bcebd7e914e25149a34"
   }
  }
 },
 "nbformat": 4,
 "nbformat_minor": 2
}
