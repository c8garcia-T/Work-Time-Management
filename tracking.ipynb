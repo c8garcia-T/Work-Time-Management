{
 "cells": [
  {
   "cell_type": "markdown",
   "metadata": {},
   "source": []
  },
  {
   "cell_type": "code",
   "execution_count": 5,
   "metadata": {},
   "outputs": [],
   "source": [
    "# imports\n",
    "import tkinter as tk\n",
    "from tkinter import scrolledtext, messagebox, Spinbox, font\n",
    "import numpy as np"
   ]
  },
  {
   "attachments": {},
   "cell_type": "markdown",
   "metadata": {},
   "source": [
    "Track data:\n",
    "- Task completion rate\n",
    "- Time-on-task\n",
    "- Focus\n",
    "- Energy Levels\n",
    "- Satisfaction"
   ]
  },
  {
   "cell_type": "code",
   "execution_count": 8,
   "metadata": {},
   "outputs": [],
   "source": [
    "satisfaction_scale = [\n",
    "    \"VERY SATISFIED\",\n",
    "    \"SATISFIED\",\n",
    "    \"NEITHER SATISFIED NOR DISSATISFIED\",\n",
    "    \"DISSATISFIED\",\n",
    "    \"VERY DISSATISFIED\",\n",
    "]\n",
    "energy_scale = [\"VERY LOW\", \"LOW\", \"MODERATE\", \"HIGH\", \"VERY HIGH\"]\n",
    "session_task_split = [\"Single Task\", \"Multi-Task\"]\n",
    "task_completion = [\"Main Task Completed\", \"Multi-Task Contribution\"]\n",
    "\n",
    "text_field_prompt = \"\"\"\n",
    "Please provide a brief explanation for your answers \\n including any thoughts or observations you would like to share.\n",
    "\"\"\"\n",
    "# Condense:\n",
    "label_ScaleWidgets = [\n",
    "    \"Satisfaction\",\n",
    "    \"Energy Levels\",\n",
    "    \"Focus\",\n",
    "    \"Session Type\",\n",
    "    \"Task Completion\",\n",
    "]\n",
    "likert_widgets = [\n",
    "    satisfaction_scale,\n",
    "    energy_scale,\n",
    "    energy_scale,\n",
    "    session_task_split,\n",
    "    task_completion,\n",
    "]"
   ]
  },
  {
   "cell_type": "code",
   "execution_count": 9,
   "metadata": {},
   "outputs": [
    {
     "data": {
      "text/plain": [
       "array([[0., 0.],\n",
       "       [0., 0.],\n",
       "       [0., 0.]])"
      ]
     },
     "execution_count": 9,
     "metadata": {},
     "output_type": "execute_result"
    }
   ],
   "source": [
    "grid_manager_likert = np.zeros((3, 2))\n",
    "grid_manager_likert"
   ]
  },
  {
   "cell_type": "code",
   "execution_count": 10,
   "metadata": {},
   "outputs": [],
   "source": [
    "%gui tk\n",
    "global root\n",
    "global text_input\n",
    "\n",
    "def on_submit():\n",
    "    print(text_input.get(\"1.0\", \"end-1c\"))\n",
    "    show_message()\n",
    "\n",
    "\n",
    "def label_widget(label):\n",
    "    \"\"\"\n",
    "    Creates a Label widget and adds it to the root window.\n",
    "\n",
    "    Parameters:\n",
    "    label (str): The text to display on the Label widget.\n",
    "\n",
    "    Returns:\n",
    "    None\n",
    "    \"\"\"\n",
    "   \n",
    "    label_widget = tk.Label(root, text=label, font=font.Font(size=16))\n",
    "    label_widget.pack()\n",
    "\n",
    "\n",
    "def option_menu_widget(likert_scale):\n",
    "    \"\"\"\n",
    "    Creates an OptionMenu widget and adds it to the root window. The options are taken from the `likert_scale` list.\n",
    "\n",
    "    Parameters:\n",
    "    likert_scale (list of str): The options to display in the OptionMenu widget.\n",
    "\n",
    "    Returns:\n",
    "    None\n",
    "    \"\"\"\n",
    "    default_value = tk.StringVar()\n",
    "    default_value.set(\"Unanswered\")\n",
    "    option_menu = tk.OptionMenu(root, default_value, *likert_scale)\n",
    "    option_menu.pack()\n",
    "    option_menu.config(font=font.Font(size=16))\n",
    "    \n",
    "\n",
    "def likert_measures(scales, labels_for_widget):\n",
    "    for widget in range(len(scales)):\n",
    "        label_widget(labels_for_widget[widget])\n",
    "        option_menu_widget(scales[widget])\n",
    "\n",
    "\n",
    "def show_message():\n",
    "    tk.messagebox.showinfo(icon='info',message=\"Submission Recorded\")\n",
    "\n"
   ]
  },
  {
   "attachments": {},
   "cell_type": "markdown",
   "metadata": {},
   "source": [
    "Problem: Automate the palcement of widgets. \n",
    "title declare - ok.\n",
    "likert measures(labels + widgets) - packed initially\n",
    " - they need to be in grid format first\n",
    "options: manual vs algorithm. \n",
    "Algorithm approach 1:\n",
    "The moving submatrix approach. \n",
    "1. slide an array with shape (2,1) e.g (2,) across a matrix size n*n\n",
    "   - reason for submatrix (2,) is because one cell is the label and the bottom cell is the corresponding widget"
   ]
  },
  {
   "cell_type": "code",
   "execution_count": 11,
   "metadata": {},
   "outputs": [
    {
     "ename": "",
     "evalue": "",
     "output_type": "error",
     "traceback": [
      "\u001b[1;31mThe Kernel crashed while executing code in the the current cell or a previous cell. Please review the code in the cell(s) to identify a possible cause of the failure. Click <a href='https://aka.ms/vscodeJupyterKernelCrash'>here</a> for more info. View Jupyter <a href='command:jupyter.viewOutput'>log</a> for further details."
     ]
    },
    {
     "ename": "",
     "evalue": "",
     "output_type": "error",
     "traceback": [
      "\u001b[1;31mCanceled future for execute_request message before replies were done"
     ]
    }
   ],
   "source": [
    "%gui tk\n",
    "root = tk.Tk()\n",
    "# Body\n",
    "root.title(\"Work Time Management\")\n",
    "\n",
    "# likert_measures(likert_widgets, label_ScaleWidgets)\n",
    "label_widget(text_field_prompt)\n",
    "text_input = scrolledtext.ScrolledText(root, wrap=tk.WORD)\n",
    "text_input.pack(fill=tk.BOTH, expand=True)\n",
    "submit_button = tk.Button(root, text=\"Submit\", command=on_submit)\n",
    "submit_button.pack(pady=10)\n",
    "# Structure\n",
    "root.mainloop()"
   ]
  },
  {
   "attachments": {},
   "cell_type": "markdown",
   "metadata": {},
   "source": [
    "Useful widgets:\n",
    "scale = tk.Scale(root, orient='horizontal', label='Satisfcation')\n",
    "scale.pack(pady=10)\n",
    "\n",
    "def scale_values():\n",
    "    return scale.get(), scale.cget('label')\n",
    "\n",
    "> use the grid layout manager to place the widgets\n",
    "option_menu1.grid(row=0, column=0)\n",
    "option_menu2.grid(row=0, column=1)\n",
    "text.grid(row=1, column=0, columnspan=2, sticky=\"WE\")\n",
    "scrollbar.grid(row=1, column=2, sticky=\"NS\")"
   ]
  },
  {
   "cell_type": "code",
   "execution_count": null,
   "metadata": {},
   "outputs": [],
   "source": []
  }
 ],
 "metadata": {
  "kernelspec": {
   "display_name": "Env-1-General",
   "language": "python",
   "name": "python3"
  },
  "language_info": {
   "codemirror_mode": {
    "name": "ipython",
    "version": 3
   },
   "file_extension": ".py",
   "mimetype": "text/x-python",
   "name": "python",
   "nbconvert_exporter": "python",
   "pygments_lexer": "ipython3",
   "version": "3.9.15"
  },
  "orig_nbformat": 4,
  "vscode": {
   "interpreter": {
    "hash": "426a0e71540ffc0c2653557d8d08eb6d382e945066931bcebd7e914e25149a34"
   }
  }
 },
 "nbformat": 4,
 "nbformat_minor": 2
}
