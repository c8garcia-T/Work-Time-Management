{
 "cells": [
  {
   "attachments": {},
   "cell_type": "markdown",
   "metadata": {},
   "source": [
    "# Tracking sessions"
   ]
  },
  {
   "cell_type": "code",
   "execution_count": 74,
   "metadata": {},
   "outputs": [],
   "source": [
    "# imports\n",
    "import tkinter as tk\n",
    "from tkinter import scrolledtext, messagebox, Spinbox, font\n",
    "import numpy as np"
   ]
  },
  {
   "attachments": {},
   "cell_type": "markdown",
   "metadata": {},
   "source": [
    "Track data:\n",
    "- Task completion rate\n",
    "- Time-on-task\n",
    "- Focus\n",
    "- Energy Levels\n",
    "- Satisfaction"
   ]
  },
  {
   "attachments": {},
   "cell_type": "markdown",
   "metadata": {},
   "source": [
    "### Fixed values"
   ]
  },
  {
   "cell_type": "code",
   "execution_count": 75,
   "metadata": {},
   "outputs": [],
   "source": [
    "# Likert Scales\n",
    "satisfaction_scale = [\n",
    "    \"VERY SATISFIED\",\n",
    "    \"SATISFIED\",\n",
    "    \"NEITHER SATISFIED NOR DISSATISFIED\",\n",
    "    \"DISSATISFIED\",\n",
    "    \"VERY DISSATISFIED\",\n",
    "]\n",
    "energy_scale = [\"VERY LOW\", \"LOW\", \"MODERATE\", \"HIGH\", \"VERY HIGH\"]\n",
    "session_task_split = [\"Single Task\", \"Multi-Task\"]\n",
    "task_completion = [\"Main Task Completed\", \"Multi-Task Contribution\"]"
   ]
  },
  {
   "cell_type": "code",
   "execution_count": 76,
   "metadata": {},
   "outputs": [],
   "source": [
    "# text box input user prompt\n",
    "text_field_prompt = \"\"\"\n",
    "Please provide a brief explanation for your answers \\n including any thoughts or observations you would like to share.\n",
    "\"\"\""
   ]
  },
  {
   "cell_type": "code",
   "execution_count": 77,
   "metadata": {},
   "outputs": [],
   "source": [
    "# Condense:\n",
    "label_ScaleWidgets = [\n",
    "    \"Satisfaction\",\n",
    "    \"Energy Levels\",\n",
    "    \"Focus\",\n",
    "    \"Session Type\",\n",
    "    \"Task Completion\",\n",
    "]\n",
    "likert_widgets = [\n",
    "    satisfaction_scale,\n",
    "    energy_scale,\n",
    "    energy_scale,\n",
    "    session_task_split,\n",
    "    task_completion,\n",
    "]\n",
    "assert len(label_ScaleWidgets) == len(likert_widgets)"
   ]
  },
  {
   "attachments": {},
   "cell_type": "markdown",
   "metadata": {},
   "source": [
    "### Functions"
   ]
  },
  {
   "cell_type": "code",
   "execution_count": 78,
   "metadata": {},
   "outputs": [],
   "source": [
    "# Functions to ease production of widgets\n",
    "def label_widget(label, window):\n",
    "    \"\"\"\n",
    "    Create and return a Tkinter Label widget with the specified text and font.\n",
    "\n",
    "    Args:\n",
    "        label (str): The text to display on the label.\n",
    "        window (tk.Tk or tk.Frame): The window or frame where the label widget will be placed.\n",
    "\n",
    "    Returns:\n",
    "        tk.Label: The created label widget.\n",
    "    \"\"\"\n",
    "    label_widget = tk.Label(window, text=label, font=font.Font(size=16))\n",
    "    return label_widget\n",
    "\n",
    "\n",
    "def option_menu_widget(likert_scale: list, window: tk.Tk):\n",
    "    \"\"\"Create a Tkinter OptionMenu widget with default value 'Unanswered' and given likert scale options.\n",
    "\n",
    "    Args:\n",
    "        likert_scale (list): A list of strings representing the likert scale options.\n",
    "        window (tk.Tk): The parent window for the OptionMenu widget.\n",
    "\n",
    "    Returns:\n",
    "        tk.OptionMenu: The created OptionMenu widget with default value 'Unanswered' and given likert scale options.\n",
    "    \"\"\"\n",
    "    default_value = tk.StringVar()\n",
    "    default_value.set(\"Unanswered\")\n",
    "    option_menu = tk.OptionMenu(window, default_value, *likert_scale)\n",
    "    option_menu.config(font=font.Font(size=16))\n",
    "    return option_menu\n",
    "\n",
    "\n",
    "def likert_measures(scales, labels_for_widget, window):\n",
    "    \"\"\"\n",
    "    This function generates a series of Likert scale measurement widgets based on the provided\n",
    "    scales and labels. The widgets are placed in two columns, with two widgets side by side and\n",
    "    repeated down the screen.\n",
    "\n",
    "    Args:\n",
    "        scales (list): A list of lists, where each inner list represents the options for a Likert\n",
    "            scale. The first item in each inner list should be the default option.\n",
    "        labels_for_widget (list): A list of strings representing the labels to be displayed for\n",
    "            each widget.\n",
    "        window (Tk): The tkinter window in which the widgets will be displayed.\n",
    "\n",
    "    Returns:\n",
    "        int: The y-coordinate of the last widget placed, for use in placing additional widgets\n",
    "        below this set.\n",
    "    \"\"\"\n",
    "    # fixed initials\n",
    "    left_col_x = 0\n",
    "    right_col_x = 350\n",
    "    # variable y\n",
    "    upper_pos = 0\n",
    "    bottom_pos = 30\n",
    "    alternator_pos = 0\n",
    "\n",
    "    for row_indx in range(len(scales)):\n",
    "        if alternator_pos == 0:\n",
    "            lbl = label_widget(labels_for_widget[row_indx], window=window)\n",
    "            lbl.place(x=left_col_x, y=upper_pos, relx=0.01)\n",
    "            optsmenu = option_menu_widget(scales[row_indx], window=window)\n",
    "            optsmenu.place(x=left_col_x, y=bottom_pos, relx=0.01)\n",
    "            alternator_pos = 1\n",
    "\n",
    "        else:\n",
    "            lbl = label_widget(labels_for_widget[row_indx], window=window)\n",
    "            lbl.place(x=right_col_x, y=upper_pos, relx=0.01)\n",
    "            optsmenu = option_menu_widget(scales[row_indx], window=window)\n",
    "            optsmenu.place(x=right_col_x, y=bottom_pos, relx=0.01)\n",
    "            alternator_pos = 0\n",
    "            upper_pos = bottom_pos + 30\n",
    "            bottom_pos = upper_pos + 30\n",
    "    if alternator_pos == 0:\n",
    "        return bottom_pos + 30\n",
    "    else:\n",
    "        return bottom_pos + 30\n",
    "\n",
    "\n",
    "def on_submit():\n",
    "    print(text_input.get(\"1.0\", \"end-1c\"))\n",
    "    show_message()\n",
    "\n",
    "\n",
    "def show_message():\n",
    "    tk.messagebox.showinfo(icon=\"info\", message=\"Submission Recorded\")"
   ]
  },
  {
   "attachments": {},
   "cell_type": "markdown",
   "metadata": {},
   "source": [
    "useful reference:\n",
    "def scale_values():\n",
    "    return scale.get(), scale.cget('label')\n"
   ]
  },
  {
   "attachments": {},
   "cell_type": "markdown",
   "metadata": {},
   "source": [
    "### Main Script"
   ]
  },
  {
   "cell_type": "code",
   "execution_count": 79,
   "metadata": {},
   "outputs": [],
   "source": [
    "\n",
    "%gui tk\n",
    "root = tk.Tk()\n",
    "# Get the width and height of the screen\n",
    "screen_width = root.winfo_screenwidth()\n",
    "screen_height = root.winfo_screenheight()\n",
    "\n",
    "# Calculate the x and y coordinates for the Tkinter window to appear at the center of the screen\n",
    "x_pos = 1100 # (screen_width // 2) - (600 // 2) for centered\n",
    "y_pos = (screen_height // 2) - (600 // 2)\n",
    "# print(x_pos,y_pos)\n",
    "# Set the position of the window to the calculated x and y coordinates\n",
    "window_width = 500\n",
    "root.geometry(f\"{window_width}x700+{x_pos}+{y_pos}\")\n",
    "# Body\n",
    "root.title(\"Work Time Management\")\n",
    "continue_pos = likert_measures(likert_widgets,label_ScaleWidgets,root)\n",
    "label_widget(text_field_prompt, root).place(y=continue_pos)\n",
    "text_input = scrolledtext.ScrolledText(root, wrap=tk.WORD, width=window_width, height=25)\n",
    "continue_pos += 70 \n",
    "text_input.place(y=continue_pos)\n",
    "submit_button = tk.Button(root, text=\"Submit\", command=on_submit)\n",
    "continue_pos += 350\n",
    "submit_button.place(y=continue_pos)\n",
    "root.mainloop()\n",
    "\n"
   ]
  },
  {
   "cell_type": "code",
   "execution_count": null,
   "metadata": {},
   "outputs": [],
   "source": []
  }
 ],
 "metadata": {
  "kernelspec": {
   "display_name": "Env-1-General",
   "language": "python",
   "name": "python3"
  },
  "language_info": {
   "codemirror_mode": {
    "name": "ipython",
    "version": 3
   },
   "file_extension": ".py",
   "mimetype": "text/x-python",
   "name": "python",
   "nbconvert_exporter": "python",
   "pygments_lexer": "ipython3",
   "version": "3.9.15"
  },
  "orig_nbformat": 4,
  "vscode": {
   "interpreter": {
    "hash": "426a0e71540ffc0c2653557d8d08eb6d382e945066931bcebd7e914e25149a34"
   }
  }
 },
 "nbformat": 4,
 "nbformat_minor": 2
}
