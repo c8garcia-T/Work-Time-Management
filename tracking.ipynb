{
 "cells": [
  {
   "attachments": {},
   "cell_type": "markdown",
   "metadata": {},
   "source": [
    "# Tracking sessions"
   ]
  },
  {
   "cell_type": "code",
   "execution_count": 1,
   "metadata": {},
   "outputs": [],
   "source": [
    "# imports\n",
    "import tkinter as tk\n",
    "from tkinter import scrolledtext, messagebox, Spinbox, font\n",
    "import numpy as np"
   ]
  },
  {
   "attachments": {},
   "cell_type": "markdown",
   "metadata": {},
   "source": [
    "Track data:\n",
    "- Task completion rate\n",
    "- Time-on-task\n",
    "- Focus\n",
    "- Energy Levels\n",
    "- Satisfaction"
   ]
  },
  {
   "attachments": {},
   "cell_type": "markdown",
   "metadata": {},
   "source": [
    "### Fixed values"
   ]
  },
  {
   "cell_type": "code",
   "execution_count": 2,
   "metadata": {},
   "outputs": [],
   "source": [
    "# Likert Scales\n",
    "satisfaction_scale = [\n",
    "    \"VERY SATISFIED\",\n",
    "    \"SATISFIED\",\n",
    "    \"NEITHER SATISFIED NOR DISSATISFIED\",\n",
    "    \"DISSATISFIED\",\n",
    "    \"VERY DISSATISFIED\",\n",
    "]\n",
    "energy_scale = [\"VERY LOW\", \"LOW\", \"MODERATE\", \"HIGH\", \"VERY HIGH\"]\n",
    "session_task_split = [\"Single Task\", \"Multi-Task\"]\n",
    "task_completion = [\"Main Task Completed\", \"Multi-Task Contribution\"]"
   ]
  },
  {
   "cell_type": "code",
   "execution_count": 3,
   "metadata": {},
   "outputs": [],
   "source": [
    "# text box input user prompt\n",
    "text_field_prompt = \"\"\"\n",
    "Please provide a brief explanation for your answers \\n including any thoughts or observations you would like to share.\n",
    "\"\"\""
   ]
  },
  {
   "cell_type": "code",
   "execution_count": 4,
   "metadata": {},
   "outputs": [],
   "source": [
    "# Condense:\n",
    "label_ScaleWidgets = [\n",
    "    \"Satisfaction\",\n",
    "    \"Energy Levels\",\n",
    "    \"Focus\",\n",
    "    \"Session Type\",\n",
    "    \"Task Completion\",\n",
    "]\n",
    "likert_widgets = [\n",
    "    satisfaction_scale,\n",
    "    energy_scale,\n",
    "    energy_scale,\n",
    "    session_task_split,\n",
    "    task_completion,\n",
    "]\n",
    "assert len(label_ScaleWidgets) == len(likert_widgets)"
   ]
  },
  {
   "attachments": {},
   "cell_type": "markdown",
   "metadata": {},
   "source": [
    "### Functions"
   ]
  },
  {
   "cell_type": "code",
   "execution_count": 37,
   "metadata": {},
   "outputs": [],
   "source": [
    "# Functions to ease production of widgets\n",
    "def label_widget(label,window):   \n",
    "    label_widget = tk.Label(window, text=label, font=font.Font(size=16))\n",
    "    return label_widget\n",
    "    \n",
    "def option_menu_widget(likert_scale, window):\n",
    "    default_value = tk.StringVar()\n",
    "    default_value.set(\"Unanswered\")\n",
    "    option_menu = tk.OptionMenu(window, default_value, *likert_scale)\n",
    "    option_menu.config(font=font.Font(size=16))\n",
    "    return option_menu\n",
    "\n",
    "def likert_measures(scales, labels_for_widget,window):\n",
    "    for row_indx in range(len(scales)):\n",
    "        label_widget(labels_for_widget[row_indx],window=window).grid(row=row_indx, column=0, sticky='E')\n",
    "        option_menu_widget(scales[row_indx],window=window).grid(row=row_indx,column=1, sticky='W')\n",
    "def on_submit():\n",
    "    print(text_input.get(\"1.0\", \"end-1c\"))\n",
    "    show_message()\n",
    "\n",
    "def show_message():\n",
    "    tk.messagebox.showinfo(icon='info',message=\"Submission Recorded\")"
   ]
  },
  {
   "attachments": {},
   "cell_type": "markdown",
   "metadata": {},
   "source": [
    "useful reference:\n",
    "def scale_values():\n",
    "    return scale.get(), scale.cget('label')\n"
   ]
  },
  {
   "attachments": {},
   "cell_type": "markdown",
   "metadata": {},
   "source": [
    "### Main Script"
   ]
  },
  {
   "cell_type": "code",
   "execution_count": 49,
   "metadata": {},
   "outputs": [],
   "source": [
    "\n",
    "%gui tk\n",
    "root = tk.Tk()\n",
    "# Get the width and height of the screen\n",
    "screen_width = root.winfo_screenwidth()\n",
    "screen_height = root.winfo_screenheight()\n",
    "\n",
    "# Calculate the x and y coordinates for the Tkinter window to appear at the center of the screen\n",
    "x_pos = 0 # (screen_width // 2) - (600 // 2) for centered\n",
    "y_pos = (screen_height // 2) - (600 // 2)\n",
    "# print(x_pos,y_pos)\n",
    "# Set the position of the window to the calculated x and y coordinates\n",
    "root.geometry(f\"+{x_pos}+{y_pos}\")\n",
    "# Body\n",
    "root.title(\"Work Time Management\")\n",
    "likert_measures(likert_widgets,label_ScaleWidgets,root)\n",
    "label_widget(text_field_prompt, root).grid()\n",
    "text_input = scrolledtext.ScrolledText(root, wrap=tk.WORD)\n",
    "text_input.grid()\n",
    "submit_button = tk.Button(root, text=\"Submit\", command=on_submit)\n",
    "submit_button.grid()\n",
    "root.mainloop()\n",
    "\n"
   ]
  },
  {
   "cell_type": "code",
   "execution_count": null,
   "metadata": {},
   "outputs": [],
   "source": []
  },
  {
   "cell_type": "code",
   "execution_count": null,
   "metadata": {},
   "outputs": [],
   "source": []
  }
 ],
 "metadata": {
  "kernelspec": {
   "display_name": "Env-1-General",
   "language": "python",
   "name": "python3"
  },
  "language_info": {
   "codemirror_mode": {
    "name": "ipython",
    "version": 3
   },
   "file_extension": ".py",
   "mimetype": "text/x-python",
   "name": "python",
   "nbconvert_exporter": "python",
   "pygments_lexer": "ipython3",
   "version": "3.9.15"
  },
  "orig_nbformat": 4,
  "vscode": {
   "interpreter": {
    "hash": "426a0e71540ffc0c2653557d8d08eb6d382e945066931bcebd7e914e25149a34"
   }
  }
 },
 "nbformat": 4,
 "nbformat_minor": 2
}
